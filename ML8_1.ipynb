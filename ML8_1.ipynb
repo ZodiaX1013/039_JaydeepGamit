{
  "nbformat": 4,
  "nbformat_minor": 0,
  "metadata": {
    "colab": {
      "name": "ML8_1.ipynb",
      "provenance": [],
      "authorship_tag": "ABX9TyOqu61B+k0RUZ/+2ymEB7jg",
      "include_colab_link": true
    },
    "kernelspec": {
      "name": "python3",
      "display_name": "Python 3"
    },
    "language_info": {
      "name": "python"
    }
  },
  "cells": [
    {
      "cell_type": "markdown",
      "metadata": {
        "id": "view-in-github",
        "colab_type": "text"
      },
      "source": [
        "<a href=\"https://colab.research.google.com/github/ZodiaX1013/039_JaydeepGamit/blob/main/ML8_1.ipynb\" target=\"_parent\"><img src=\"https://colab.research.google.com/assets/colab-badge.svg\" alt=\"Open In Colab\"/></a>"
      ]
    },
    {
      "cell_type": "code",
      "metadata": {
        "id": "ougQJJ5ZhQEm"
      },
      "source": [
        "# Using scikit-learn to perform K-Means clustering\n",
        "from sklearn.cluster import KMeans\n",
        "from sklearn.datasets import load_digits"
      ],
      "execution_count": 1,
      "outputs": []
    },
    {
      "cell_type": "code",
      "metadata": {
        "colab": {
          "base_uri": "https://localhost:8080/"
        },
        "id": "Fcjw7h4PhV2S",
        "outputId": "18791254-d853-4fcc-8cf4-1b5623366e5a"
      },
      "source": [
        "digits = load_digits()\n",
        "digits.data.shape"
      ],
      "execution_count": 2,
      "outputs": [
        {
          "output_type": "execute_result",
          "data": {
            "text/plain": [
              "(1797, 64)"
            ]
          },
          "metadata": {},
          "execution_count": 2
        }
      ]
    },
    {
      "cell_type": "code",
      "metadata": {
        "colab": {
          "base_uri": "https://localhost:8080/"
        },
        "id": "Gl-TKFYYhY0i",
        "outputId": "0dc49077-713d-4705-fd5e-abdca9132c21"
      },
      "source": [
        "kmeans = KMeans(n_clusters=10, random_state=12)\n",
        "prediction = kmeans.fit_predict(digits.data)\n",
        "prediction"
      ],
      "execution_count": 3,
      "outputs": [
        {
          "output_type": "execute_result",
          "data": {
            "text/plain": [
              "array([4, 7, 7, ..., 7, 3, 3], dtype=int32)"
            ]
          },
          "metadata": {},
          "execution_count": 3
        }
      ]
    },
    {
      "cell_type": "code",
      "metadata": {
        "colab": {
          "base_uri": "https://localhost:8080/"
        },
        "id": "vQRZdkYYhajd",
        "outputId": "72da3567-e01d-4262-cd0d-1e566817e55b"
      },
      "source": [
        "kmeans.cluster_centers_.shape"
      ],
      "execution_count": 4,
      "outputs": [
        {
          "output_type": "execute_result",
          "data": {
            "text/plain": [
              "(10, 64)"
            ]
          },
          "metadata": {},
          "execution_count": 4
        }
      ]
    },
    {
      "cell_type": "code",
      "metadata": {
        "colab": {
          "base_uri": "https://localhost:8080/",
          "height": 197
        },
        "id": "tJo91sLahb46",
        "outputId": "6a698ea2-2887-4eb0-cb27-469b0d28ef0b"
      },
      "source": [
        "# Scatter plot of the data points\n",
        "import matplotlib.pyplot as plt\n",
        "\n",
        "fig, ax = plt.subplots(2, 5, figsize=(8, 3))\n",
        "centers = kmeans.cluster_centers_.reshape(10, 8, 8)\n",
        "\n",
        "for axi, center in zip(ax.flat, centers):\n",
        "  axi.set(xticks=[], yticks=[])\n",
        "  axi.imshow(center, interpolation='nearest', cmap=plt.cm.binary)"
      ],
      "execution_count": 5,
      "outputs": [
        {
          "output_type": "display_data",
          "data": {
            "image/png": "[encoded data removed]",
            "text/plain": [
              "<Figure size 576x216 with 10 Axes>"
            ]
          },
          "metadata": {}
        }
      ]
    },
    {
      "cell_type": "code",
      "metadata": {
        "id": "bgjOWaYkhdSl"
      },
      "source": [
        "import numpy as np\n",
        "from scipy.stats import mode\n",
        "\n",
        "labels = np.zeros_like(prediction)\n",
        "for i in range(10):\n",
        "  mask = (prediction == i)\n",
        "  labels[mask] = mode(digits.target[mask])[0]"
      ],
      "execution_count": 6,
      "outputs": []
    },
    {
      "cell_type": "code",
      "metadata": {
        "colab": {
          "base_uri": "https://localhost:8080/"
        },
        "id": "eiKWToHqhevK",
        "outputId": "07b46006-9851-4c45-fc62-d577a0e096b2"
      },
      "source": [
        "from sklearn.metrics import accuracy_score\n",
        "accuracy_score(digits.target, labels)"
      ],
      "execution_count": 7,
      "outputs": [
        {
          "output_type": "execute_result",
          "data": {
            "text/plain": [
              "0.7918753478018921"
            ]
          },
          "metadata": {},
          "execution_count": 7
        }
      ]
    },
    {
      "cell_type": "code",
      "metadata": {
        "colab": {
          "base_uri": "https://localhost:8080/",
          "height": 279
        },
        "id": "8MCnAnJHhf7O",
        "outputId": "42039ec0-a2e2-4c9f-b0ec-a78ebd703c74"
      },
      "source": [
        "from sklearn.metrics import confusion_matrix\n",
        "import seaborn as sns\n",
        "\n",
        "mat = confusion_matrix(digits.target, labels)\n",
        "\n",
        "ax = sns.heatmap(mat.T, square=True, annot=True, fmt='d', cbar=False, xticklabels=digits.target_names, yticklabels=digits.target_names)\n",
        "ax.set_ylim(10.0,0)\n",
        "\n",
        "plt.xlabel('true label')\n",
        "plt.ylabel('predicted label');"
      ],
      "execution_count": 8,
      "outputs": [
        {
          "output_type": "display_data",
          "data": {
            "image/png": "[encoded data removed]",
            "text/plain": [
              "<Figure size 432x288 with 1 Axes>"
            ]
          },
          "metadata": {
            "needs_background": "light"
          }
        }
      ]
    }
  ]
}